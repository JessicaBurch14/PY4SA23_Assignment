{
 "cells": [
  {
   "cell_type": "markdown",
   "id": "538e1d77-1280-4e54-8697-f82ab307b241",
   "metadata": {},
   "source": [
    "# Lab Assignment 2 - Jessica Burch\n",
    "### 200003047\n",
    "### https://github.com/JessicaBurch14/PY4SA23_Assignment"
   ]
  },
  {
   "cell_type": "markdown",
   "id": "247a8401-9d04-4f86-965f-3d7077bbf09b",
   "metadata": {},
   "source": [
    "## **Python Basics** - go back and write what did!!!!!!!"
   ]
  },
  {
   "cell_type": "markdown",
   "id": "ea1af31c-1679-4edf-a363-20a9b880c952",
   "metadata": {},
   "source": [
    "Task 1 -  If...Else statement that will test whether a number is divisible by three"
   ]
  },
  {
   "cell_type": "code",
   "execution_count": 36,
   "id": "18e0a8f9-ed31-4702-841c-2c7e89d38d34",
   "metadata": {},
   "outputs": [
    {
     "name": "stdout",
     "output_type": "stream",
     "text": [
      "63 is divisible by 3.\n"
     ]
    }
   ],
   "source": [
    "x = 63\n",
    "if x%3==0:\n",
    "    print(str(x) + \" is divisible by 3.\")\n",
    "else:\n",
    "    print(str(x) + \" is not divisible by 3.\")"
   ]
  },
  {
   "cell_type": "markdown",
   "id": "71397d82-5fe0-440c-be36-f2b1b5efb716",
   "metadata": {},
   "source": [
    "Task 2 - If...Else statement that will test whether a type of fruit, represented as a text string,is in a list of acceptable fruits "
   ]
  },
  {
   "cell_type": "code",
   "execution_count": 33,
   "id": "b746b6bc-f75a-4dec-a091-3affbb819fd7",
   "metadata": {},
   "outputs": [
    {
     "name": "stdout",
     "output_type": "stream",
     "text": [
      "pineapple is not acceptable\n"
     ]
    }
   ],
   "source": [
    "fruits = [\"apple\", \"orange\", \"pear\", \"kiwi\", \"strawberry\"] \n",
    "if fruit in fruits:\n",
    "    print(fruit + \" is acceptable\")\n",
    "else: \n",
    "    print(fruit + \" is not acceptable\")\n",
    "fruit = \"pineapple\""
   ]
  },
  {
   "cell_type": "markdown",
   "id": "29cc4dec-a822-473c-abd2-2c3a271c4ca6",
   "metadata": {},
   "source": [
    "Task 3 - function to calculate the distance between two coordinates using the haversine\n",
    "formula"
   ]
  },
  {
   "cell_type": "code",
   "execution_count": null,
   "id": "a77c225d-9f7d-444f-b2cb-091bcd80d2e9",
   "metadata": {},
   "outputs": [],
   "source": []
  },
  {
   "cell_type": "markdown",
   "id": "e2d1f92a-dc59-44db-811b-2328a12476f7",
   "metadata": {},
   "source": [
    "## **Pandas and NumPy** - write what did!!!!!!!!!!!"
   ]
  },
  {
   "cell_type": "code",
   "execution_count": 1,
   "id": "330b68a8-27b4-45cf-9ee4-011a11704fbf",
   "metadata": {},
   "outputs": [],
   "source": [
    "import numpy as np \n",
    "import pandas as pd"
   ]
  },
  {
   "cell_type": "markdown",
   "id": "03de028d-a659-4dea-ae94-e4fb12326e60",
   "metadata": {},
   "source": [
    "Q1: How many trees are of the Quercus or Acer genus? "
   ]
  },
  {
   "cell_type": "code",
   "execution_count": 2,
   "id": "fc79b2ca-c7b0-4bd6-afbd-cfabe407f031",
   "metadata": {},
   "outputs": [],
   "source": [
    "portland_trees = pd.read_csv(\"data/portland_park_trees.csv\", sep=\",\", header=0, encoding=\"ISO-8859-1\") "
   ]
  },
  {
   "cell_type": "code",
   "execution_count": 12,
   "id": "34c4163d-9222-436a-aa2b-bb4de33ecf2a",
   "metadata": {},
   "outputs": [
    {
     "name": "stdout",
     "output_type": "stream",
     "text": [
      "2089\n",
      "3586\n",
      "5675\n",
      "5675 trees are of the Quercus or Acer genus\n"
     ]
    }
   ],
   "source": [
    "genus_quercus = portland_trees[portland_trees[\"Genus\"]==\"Quercus\"]\n",
    "print(len(genus_quercus))\n",
    "genus_acer = portland_trees[portland_trees[\"Genus\"]==\"Acer\"]\n",
    "print(len(genus_acer))\n",
    "trees=len(genus_quercus) + len(genus_acer)\n",
    "print(trees)\n",
    "print(str(trees)+ \" trees are of the Quercus or Acer genus\")"
   ]
  },
  {
   "cell_type": "markdown",
   "id": "f1d45be2-d3a9-4edc-a447-eae35fb2d6c8",
   "metadata": {},
   "source": [
    "Q2: How many trees are of the Quercus or Acer genus and have a DBH larger than 50 inches?"
   ]
  },
  {
   "cell_type": "code",
   "execution_count": 24,
   "id": "93709070-13fb-4cfb-b1b4-2b00561726bd",
   "metadata": {},
   "outputs": [
    {
     "name": "stdout",
     "output_type": "stream",
     "text": [
      "80\n",
      "44\n",
      "124\n",
      "124 trees are of the Quercus or Acer genus and have a DBH larger than 50 inches\n"
     ]
    }
   ],
   "source": [
    "quercusdbh_50 = genus_quercus[(genus_quercus[\"DBH\"]>50)]\n",
    "print(len(quercusdbh_50))\n",
    "acerdbh_50 = genus_acer[(genus_acer[\"DBH\"]>50)]\n",
    "print(len(acerdbh_50))\n",
    "dbh_50 = len(quercusdbh_50) + len(acerdbh_50)\n",
    "print(dbh_50)\n",
    "print(str(dbh_50)+ \" trees are of the Quercus or Acer genus and have a DBH larger than 50 inches\")\n"
   ]
  },
  {
   "cell_type": "markdown",
   "id": "a0ef30c9-1f71-4fdd-9053-e9b128d9b09f",
   "metadata": {},
   "source": [
    "Q3: Which genus has the highest mean DBH of the following genera: Quercus, Acer, or Fraxinus? "
   ]
  },
  {
   "cell_type": "code",
   "execution_count": 37,
   "id": "6f7e8da8-7be8-4112-b578-bdd242531776",
   "metadata": {},
   "outputs": [
    {
     "name": "stdout",
     "output_type": "stream",
     "text": [
      "23.56823839157492\n",
      "18.419085331846066\n",
      "11.033609693877551\n",
      "The Quercus genus has the highest mean DBH, with a value of 23.56823839157492\n"
     ]
    }
   ],
   "source": [
    "quercus_mean=genus_quercus[\"DBH\"].mean()\n",
    "print(quercus_mean)\n",
    "\n",
    "acer_mean=genus_acer[\"DBH\"].mean()\n",
    "print(acer_mean)   \n",
    "\n",
    "genus_fraxinus=portland_trees[portland_trees[\"Genus\"]==\"Fraxinus\"]\n",
    "fraxinus_mean=genus_fraxinus[\"DBH\"].mean()\n",
    "print(fraxinus_mean)\n",
    "\n",
    "print(\"The Quercus genus has the highest mean DBH, with a value of\" + \" \" + str(quercus_mean))\n"
   ]
  },
  {
   "cell_type": "markdown",
   "id": "be20f77e-9d46-4469-8647-89abbc0159c2",
   "metadata": {},
   "source": [
    "Q4: How many different species of trees are recorded in the Acer genus? "
   ]
  },
  {
   "cell_type": "code",
   "execution_count": 70,
   "id": "122f1371-1f9d-4816-b7b4-11b126d8f9fa",
   "metadata": {},
   "outputs": [
    {
     "name": "stdout",
     "output_type": "stream",
     "text": [
      "Species\n",
      "ACPL       1502\n",
      "ACMA        490\n",
      "ACRU        303\n",
      "ACCI        299\n",
      "ACPS        211\n",
      "ACFR        207\n",
      "ACPA        176\n",
      "ACSA3       153\n",
      "ACCA         68\n",
      "ACSA         52\n",
      "ACGI         48\n",
      "ACGR         44\n",
      "ACDA          8\n",
      "ACNE          6\n",
      "ACGDSC        6\n",
      "ACBU          5\n",
      "ACJA          4\n",
      "ACRF          2\n",
      "ACHD          1\n",
      "ACMO          1\n",
      "dtype: int64\n",
      "20\n",
      "There are 20 different species of trees recorded in the Acer genus\n"
     ]
    }
   ],
   "source": [
    "acer_species=portland_trees[portland_trees[\"Genus\"]==\"Acer\"][[\"Species\"]]\n",
    "species=acer_species.value_counts()\n",
    "print(species) # This shows the counts of the different species within the Acer genus \n",
    "species_count=len(species)\n",
    "print(species_count) # This shows the number of different species with the genus (the length of the object)\n",
    "print(\"There are\" + \" \" + str(species_count) + \" different species of trees recorded in the Acer genus\")"
   ]
  },
  {
   "cell_type": "markdown",
   "id": "a7fa9c3c-a2dc-4c8b-8986-eb261b24d85e",
   "metadata": {},
   "source": [
    "Q5: using the world_cities.csv"
   ]
  },
  {
   "cell_type": "code",
   "execution_count": 71,
   "id": "58489960-3e31-4a13-941c-e3a8cb21ae61",
   "metadata": {},
   "outputs": [],
   "source": [
    "world_cities = pd.read_csv(\"data/world_cities.csv\", sep=\",\", header=0, encoding=\"ISO-8859-1\")"
   ]
  },
  {
   "cell_type": "markdown",
   "id": "3eeb80e2-22dd-4bff-8a32-88a5f5e71183",
   "metadata": {},
   "source": [
    "Calculate a new column named \"pop_M\" (population in millions), by transforming the\n",
    "\"pop\" (population) column."
   ]
  },
  {
   "cell_type": "code",
   "execution_count": null,
   "id": "7dbf96eb-7998-4688-bbba-2a17c4bd9514",
   "metadata": {},
   "outputs": [],
   "source": []
  },
  {
   "cell_type": "markdown",
   "id": "20ba82fa-5ab0-4f7b-8388-13024e298489",
   "metadata": {},
   "source": [
    "Remove the original \"pop\" column"
   ]
  },
  {
   "cell_type": "code",
   "execution_count": null,
   "id": "9e03a53a-b4a5-4fe5-a116-bbe141484d51",
   "metadata": {},
   "outputs": [],
   "source": []
  },
  {
   "cell_type": "markdown",
   "id": "2e51e839-3ee0-4f2a-8888-b6a47818b7d3",
   "metadata": {},
   "source": [
    "Choose/subset a city that starts with the same letter as your first name (for example,\n",
    "\"Mexico City\" if your first name is Michael)"
   ]
  },
  {
   "cell_type": "code",
   "execution_count": null,
   "id": "c3e3309c-660d-4727-95e4-884cade2704a",
   "metadata": {},
   "outputs": [],
   "source": []
  },
  {
   "cell_type": "markdown",
   "id": "d8025d9a-f2c7-47a3-a2a2-77e12de94bb6",
   "metadata": {},
   "source": [
    "Subset the five biggest (i.e., largest population sizes) cities from the country where your\n",
    "selected city is"
   ]
  },
  {
   "cell_type": "code",
   "execution_count": null,
   "id": "31890b50-9fc5-492c-89b9-f7637518c0ff",
   "metadata": {},
   "outputs": [],
   "source": []
  },
  {
   "cell_type": "markdown",
   "id": "6b21cdc5-3ac1-45e5-9123-991221e1dee4",
   "metadata": {},
   "source": [
    "## Python Data Visualisation"
   ]
  },
  {
   "cell_type": "code",
   "execution_count": 72,
   "id": "9b831f17-aea7-4c0b-9da1-cf4cd81480b5",
   "metadata": {},
   "outputs": [],
   "source": [
    "portland_trees = pd.read_csv(\"data/portland_park_trees.csv\", sep=\",\", header=0, encoding=\"ISO-8859-1\")"
   ]
  },
  {
   "cell_type": "markdown",
   "id": "8e1b6fd5-879a-4236-b0fd-650bae80ef40",
   "metadata": {},
   "source": [
    "Graph 1: Create a scatterplot for just trees in the Ulmus genus with DBH mapped to the x-axis\n",
    "and tree height mapped to the y-axis"
   ]
  }
 ],
 "metadata": {
  "kernelspec": {
   "display_name": "Python 3 (ipykernel)",
   "language": "python",
   "name": "python3"
  },
  "language_info": {
   "codemirror_mode": {
    "name": "ipython",
    "version": 3
   },
   "file_extension": ".py",
   "mimetype": "text/x-python",
   "name": "python",
   "nbconvert_exporter": "python",
   "pygments_lexer": "ipython3",
   "version": "3.10.9"
  }
 },
 "nbformat": 4,
 "nbformat_minor": 5
}
