{
 "cells": [
  {
   "cell_type": "markdown",
   "id": "538e1d77-1280-4e54-8697-f82ab307b241",
   "metadata": {},
   "source": [
    "# Lab Assignment 2 - Jessica Burch\n",
    "### 200003047\n",
    "### https://github.com/JessicaBurch14/PY4SA23_Assignment"
   ]
  },
  {
   "cell_type": "markdown",
   "id": "247a8401-9d04-4f86-965f-3d7077bbf09b",
   "metadata": {},
   "source": [
    "## **Python Basics** "
   ]
  },
  {
   "cell_type": "markdown",
   "id": "ea1af31c-1679-4edf-a363-20a9b880c952",
   "metadata": {},
   "source": [
    "Task 1 -  If...Else statement that will test whether a number is divisible by three"
   ]
  },
  {
   "cell_type": "code",
   "execution_count": 4,
   "id": "18e0a8f9-ed31-4702-841c-2c7e89d38d34",
   "metadata": {},
   "outputs": [
    {
     "name": "stdout",
     "output_type": "stream",
     "text": [
      "27 is divisible by 3.\n"
     ]
    }
   ],
   "source": [
    "x = 27\n",
    "if x%3==0:\n",
    "    print(str(x) + \" is divisible by 3.\")\n",
    "else:\n",
    "    print(str(x) + \" is not divisible by 3.\")"
   ]
  },
  {
   "cell_type": "code",
   "execution_count": null,
   "id": "ac3b6484-e355-4658-99c8-8bbb8dcbc938",
   "metadata": {},
   "outputs": [],
   "source": []
  }
 ],
 "metadata": {
  "kernelspec": {
   "display_name": "Python 3 (ipykernel)",
   "language": "python",
   "name": "python3"
  },
  "language_info": {
   "codemirror_mode": {
    "name": "ipython",
    "version": 3
   },
   "file_extension": ".py",
   "mimetype": "text/x-python",
   "name": "python",
   "nbconvert_exporter": "python",
   "pygments_lexer": "ipython3",
   "version": "3.10.9"
  }
 },
 "nbformat": 4,
 "nbformat_minor": 5
}
