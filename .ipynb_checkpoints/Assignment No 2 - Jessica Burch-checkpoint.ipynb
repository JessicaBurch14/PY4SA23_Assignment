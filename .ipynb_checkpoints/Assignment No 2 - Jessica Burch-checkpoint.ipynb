{
 "cells": [
  {
   "cell_type": "markdown",
   "id": "538e1d77-1280-4e54-8697-f82ab307b241",
   "metadata": {},
   "source": [
    "# Lab Assignment 2 - Jessica Burch\n",
    "### 200003047\n",
    "### https://github.com/JessicaBurch14/PY4SA23_Assignment"
   ]
  },
  {
   "cell_type": "markdown",
   "id": "247a8401-9d04-4f86-965f-3d7077bbf09b",
   "metadata": {},
   "source": [
    "## **Python Basics** "
   ]
  },
  {
   "cell_type": "markdown",
   "id": "ea1af31c-1679-4edf-a363-20a9b880c952",
   "metadata": {},
   "source": [
    "Task 1 -  If...Else statement that will test whether a number is divisible by three"
   ]
  },
  {
   "cell_type": "code",
   "execution_count": 36,
   "id": "18e0a8f9-ed31-4702-841c-2c7e89d38d34",
   "metadata": {},
   "outputs": [
    {
     "name": "stdout",
     "output_type": "stream",
     "text": [
      "63 is divisible by 3.\n"
     ]
    }
   ],
   "source": [
    "x = 63\n",
    "if x%3==0:\n",
    "    print(str(x) + \" is divisible by 3.\")\n",
    "else:\n",
    "    print(str(x) + \" is not divisible by 3.\")"
   ]
  },
  {
   "cell_type": "markdown",
   "id": "71397d82-5fe0-440c-be36-f2b1b5efb716",
   "metadata": {},
   "source": [
    "Task 2 - If...Else statement that will test whether a type of fruit, represented as a text string,is in a list of acceptable fruits "
   ]
  },
  {
   "cell_type": "code",
   "execution_count": 33,
   "id": "b746b6bc-f75a-4dec-a091-3affbb819fd7",
   "metadata": {},
   "outputs": [
    {
     "name": "stdout",
     "output_type": "stream",
     "text": [
      "pineapple is not acceptable\n"
     ]
    }
   ],
   "source": [
    "fruits = [\"apple\", \"orange\", \"pear\", \"kiwi\", \"strawberry\"] \n",
    "if fruit in fruits:\n",
    "    print(fruit + \" is acceptable\")\n",
    "else: \n",
    "    print(fruit + \" is not acceptable\")\n",
    "fruit = \"pineapple\""
   ]
  },
  {
   "cell_type": "markdown",
   "id": "29cc4dec-a822-473c-abd2-2c3a271c4ca6",
   "metadata": {},
   "source": [
    "Task 3 - function to calculate the distance between two coordinates using the haversine\n",
    "formula"
   ]
  },
  {
   "cell_type": "code",
   "execution_count": null,
   "id": "a77c225d-9f7d-444f-b2cb-091bcd80d2e9",
   "metadata": {},
   "outputs": [],
   "source": []
  },
  {
   "cell_type": "markdown",
   "id": "e2d1f92a-dc59-44db-811b-2328a12476f7",
   "metadata": {},
   "source": [
    "## **Pandas and NumPy**"
   ]
  },
  {
   "cell_type": "code",
   "execution_count": 37,
   "id": "330b68a8-27b4-45cf-9ee4-011a11704fbf",
   "metadata": {},
   "outputs": [],
   "source": [
    "import numpy as np \n",
    "import pandas as pd"
   ]
  },
  {
   "cell_type": "markdown",
   "id": "03de028d-a659-4dea-ae94-e4fb12326e60",
   "metadata": {},
   "source": [
    "Q1: How many trees are of the Quercus or Acer genus? "
   ]
  },
  {
   "cell_type": "code",
   "execution_count": 39,
   "id": "fc79b2ca-c7b0-4bd6-afbd-cfabe407f031",
   "metadata": {},
   "outputs": [],
   "source": [
    "portland_trees = pd.read_csv(\"data/portland_park_trees.csv\", sep=\",\", header=0, encoding=\"ISO-8859-1\") "
   ]
  },
  {
   "cell_type": "code",
   "execution_count": 64,
   "id": "34c4163d-9222-436a-aa2b-bb4de33ecf2a",
   "metadata": {},
   "outputs": [
    {
     "name": "stdout",
     "output_type": "stream",
     "text": [
      "2089\n",
      "3586\n",
      "5675\n",
      "5675 trees are of the Quercus or Acer genus\n"
     ]
    }
   ],
   "source": [
    "genus_quercus = portland_trees[portland_trees[\"Genus\"]==\"Quercus\"]\n",
    "print(len(genus_quercus))\n",
    "genus_acer = portland_trees[portland_trees[\"Genus\"]==\"Acer\"]\n",
    "genus_acer_quercus = genus_acer + genus_quercus\n",
    "print(len(genus_acer))\n",
    "trees=len(genus_quercus) + len(genus_acer)\n",
    "print(trees)\n",
    "print(str(trees)+ \" trees are of the Quercus or Acer genus\")\n"
   ]
  },
  {
   "cell_type": "markdown",
   "id": "f1d45be2-d3a9-4edc-a447-eae35fb2d6c8",
   "metadata": {},
   "source": [
    "Q2: How many trees are of the Quercus or Acer genus and have a DBH larger than 50 inches?"
   ]
  },
  {
   "cell_type": "code",
   "execution_count": null,
   "id": "93709070-13fb-4cfb-b1b4-2b00561726bd",
   "metadata": {},
   "outputs": [],
   "source": [
    "dbh_50=portland_trees[(genus_acer_quercus) & (portland_trees[\"DBH\"]>50)]\n",
    "print(len(dbh_50))\n",
    "genus_quercus = portland_trees[portland_trees[\"Genus\"]==\"Quercus\" or \"Acer\"]\n",
    "print(genus_quercus)\n"
   ]
  },
  {
   "cell_type": "code",
   "execution_count": null,
   "id": "ba102a2e-b1ed-416e-ac33-14aaf27ba539",
   "metadata": {},
   "outputs": [],
   "source": [
    "dbh_50=portland_trees[(genus_acer_quercus) & (portland_trees[\"DBH\"]>50)]\n",
    "print(len(dbh_50))"
   ]
  }
 ],
 "metadata": {
  "kernelspec": {
   "display_name": "Python 3 (ipykernel)",
   "language": "python",
   "name": "python3"
  },
  "language_info": {
   "codemirror_mode": {
    "name": "ipython",
    "version": 3
   },
   "file_extension": ".py",
   "mimetype": "text/x-python",
   "name": "python",
   "nbconvert_exporter": "python",
   "pygments_lexer": "ipython3",
   "version": "3.10.9"
  }
 },
 "nbformat": 4,
 "nbformat_minor": 5
}
