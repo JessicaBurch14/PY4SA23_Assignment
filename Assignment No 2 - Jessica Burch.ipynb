{
 "cells": [
  {
   "cell_type": "markdown",
   "id": "538e1d77-1280-4e54-8697-f82ab307b241",
   "metadata": {},
   "source": [
    "# Lab Assignment 2 - Jessica Burch\n",
    "### 200003047\n",
    "### https://github.com/JessicaBurch14/PY4SA23_Assignment"
   ]
  },
  {
   "cell_type": "markdown",
   "id": "247a8401-9d04-4f86-965f-3d7077bbf09b",
   "metadata": {},
   "source": [
    "## **Python Basics** "
   ]
  },
  {
   "cell_type": "markdown",
   "id": "ea1af31c-1679-4edf-a363-20a9b880c952",
   "metadata": {},
   "source": [
    "Task 1"
   ]
  }
 ],
 "metadata": {
  "kernelspec": {
   "display_name": "Python 3 (ipykernel)",
   "language": "python",
   "name": "python3"
  },
  "language_info": {
   "codemirror_mode": {
    "name": "ipython",
    "version": 3
   },
   "file_extension": ".py",
   "mimetype": "text/x-python",
   "name": "python",
   "nbconvert_exporter": "python",
   "pygments_lexer": "ipython3",
   "version": "3.10.9"
  }
 },
 "nbformat": 4,
 "nbformat_minor": 5
}
